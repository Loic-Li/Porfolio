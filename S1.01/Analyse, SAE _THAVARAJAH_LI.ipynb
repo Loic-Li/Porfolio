{
 "cells": [
  {
   "cell_type": "code",
   "execution_count": 1,
   "id": "7bcdfe2d",
   "metadata": {},
   "outputs": [],
   "source": [
    "\"\"\"\n",
    "Pour la question préliminaire on s'est demander comment on pouvait afficher les amis de chaque personne du groupe.\n",
    "Pour le faire on a juste définit qui est amis avec qui et on les a mis dans le tableau,\n",
    "selon le principie donné par le sujet, c'est à dire, on met le prenom d'une personne puis on met son amis, si la personne\n",
    "possède plusieur alors on va mettre plusieur fois son prénom\n",
    "\"\"\"\n",
    "\n",
    "\"\"\"\n",
    "Pour la question 1 on s'est dit quoi faire pour vérifier qui est l'amis de cette personne\n",
    "et combien cette personne a d'amis.\n",
    "Donc pour résoudre à cette question, on a d'abord analyser notre tableau amis, puis on a conclue que lorsqu'on le prenom\n",
    "d'une personne apparait alors le prochain prenom de la liste est son amis. C'est à dire,on compte le nombre de fois\n",
    "que la personne apparait dans la liste.\n",
    "\"\"\"\n",
    "\n",
    "\"\"\"\n",
    "Pour la question 2 on s'est demander comment on pouvait comptait le nombre de personne distinct. Puis on s'est dit qu'on \n",
    "pouvait parcourir le tableau amis, pour compter les personnes, mais cette méthode n'a pas aboutis puis nous avons eu l'idée\n",
    "de créer un tableau dans la fonction, et d'ajouter les prenoms des personnes qui ne sont pas dans le tableau créer, donc\n",
    "le nombre de personne distinct sera la longueur du tableau.\n",
    "\"\"\"\n",
    "\n",
    "\"\"\"\n",
    "Pour la question 3 on s'est dit comment faire pour en même temps d'enlever tout les éléments parasyte qui se retrouver\n",
    "sur les lignes avec les prenoms, enlever les séparations entre les prenoms et en plus les ajouters dans un tableau créer.\n",
    "Pour résoudre la question on a lu le fichier ligne par ligne en enlevant dans un premier temps les espaces ainsi que des \\n qui\n",
    "permet de faire un saut a la ligne, puis on a fait une boucle qui continue tant que la lecture ne rencontre pas de ligne vide,\n",
    "dans cette boucle on va encore une fois enlever ces éléments parasytes dès le début car on lit le fichier ligne par ligne,\n",
    "et avant chaque prochaine lecture on ajoute le contenue de la ligne actuel dans le tableau en supprimant les séparateur (';').\n",
    "\"\"\"\n",
    "\n",
    "\"\"\"\n",
    "Pour la question 4, dans un premier temps on s'est dit comment mettre plusieur prenom en tant que valeur dans une clef,\n",
    "puis comment faire pour avoir les personnes distinct du groupe d'amis en tant que clés.\n",
    "Donc pour avoir les clefs on a utiliser la fonction de la question 2 pour avoir un tableau avec tout les membres du réseau,\n",
    "ensuite pour les valeurs on a du faire une boucle imbriquée, dans la boucle externe on a ajouter un nouveau tableau qui va \n",
    "servir a ajouter les amis d'une personne, et cette liste a la fin de la boucle interne va être mise en tant que valeur au \n",
    "dictionnaire. Dans la boucle interne on va vérifier si la clef est égal a amis[2*n], si c'est le cas alors on ajoute\n",
    "dans le tableau amis[2*n+1].\n",
    "\"\"\"\n",
    "\n",
    "\"\"\"\n",
    "Pour la question 5, on s'est demander comment compter le nombre d'amis de chaque personne du groupe de reseau.\n",
    "Pour avoir le nombre d'amis max d'une personne on a parcourue la longueur des clés du dictionnaire et on vérifier si\n",
    "la longueur du tableau qui était en valeur était supérieur a une variable créer au paravant. Donc on a comparais le nombre\n",
    "d'éléments dans chaque tableau.\n",
    "\"\"\"\n",
    "\n",
    "\"\"\"\n",
    "Pour la question 6, cette fois on voulait le prenom de la personne qui avait le plus d'amis et non le nombre d'amis max.\n",
    "Donc pour ce faire, on avait (grace a la question précédante) le nombre maximum d'amis, qui était en soit le nombre maximum\n",
    "d'indice possible des valeurs de tableau. Cette fois si on voulait justement la clé de la valeurs qui avait le plus d'indice.\n",
    "Donc on a retourner la clés de la valeur qui avait le plus d'indice(On parle d'indice car les valeurs (amis de chaque personne)\n",
    "était des tableaux).\n",
    "\"\"\""
   ]
  },
  {
   "cell_type": "code",
   "execution_count": null,
   "id": "30a81bbf",
   "metadata": {},
   "outputs": [],
   "source": []
  }
 ],
 "metadata": {
  "kernelspec": {
   "display_name": "Python 3 (ipykernel)",
   "language": "python",
   "name": "python3"
  },
  "language_info": {
   "codemirror_mode": {
    "name": "ipython",
    "version": 3
   },
   "file_extension": ".py",
   "mimetype": "text/x-python",
   "name": "python",
   "nbconvert_exporter": "python",
   "pygments_lexer": "ipython3",
   "version": "3.9.12"
  }
 },
 "nbformat": 4,
 "nbformat_minor": 5
}
