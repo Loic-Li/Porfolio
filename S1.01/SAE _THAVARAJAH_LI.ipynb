{
 "cells": [
  {
   "cell_type": "markdown",
   "metadata": {
    "deletable": false,
    "editable": false,
    "run_control": {
     "frozen": true
    }
   },
   "source": [
    "# <center> Etude de communautés dans un réseau social</center>\n",
    "<center> SAE 1.01 / 2022 - 23 </center>\n",
    "\n"
   ]
  },
  {
   "cell_type": "code",
   "execution_count": null,
   "metadata": {},
   "outputs": [],
   "source": [
    "Loic , Guganda "
   ]
  },
  {
   "cell_type": "markdown",
   "metadata": {
    "deletable": false,
    "editable": false,
    "run_control": {
     "frozen": true
    }
   },
   "source": [
    "Cette SAE est à faire en **binôme**.\n",
    "\n",
    "**Calendrier**\n",
    "- Un contrôle de 2h en lien avec le contenu de cette SAE aura lieu le mercredi **26 octobre** 2022.\n",
    "- Le projet est à rendre le vendredi **28 octobre** 2022. Les modalités de rendu vous seront précisées par votre enseignant.\n",
    "\n",
    "**Evaluation**\n",
    "- Le projet comptera pour 40% de la note de SAE 1.01. <BR>\n",
    "    Il sera particulièrement tenu compte de la qualité du code, des **commentaires** et **docstrings**, des fonctions de **tests unitaires** pour les fonctions renvoyant des résultats. <BR><BR>\n",
    "    \n",
    "- Le contrôle compte pour 60% de la note finale."
   ]
  },
  {
   "cell_type": "markdown",
   "metadata": {
    "deletable": false,
    "editable": false,
    "run_control": {
     "frozen": true
    }
   },
   "source": [
    "## <center> Sujet </center>\n",
    "\n",
    "Une *communauté* est un ensemble de personnes développant des interactions dans un réseau social.\n",
    "\n",
    "Dans ce projet, on étudie des communautés modélisées sous différentes formes. Pour cela, on développe des fonctions permettant d'extraire des informations relatives à ces réseaux. "
   ]
  },
  {
   "cell_type": "markdown",
   "metadata": {
    "deletable": false,
    "editable": false,
    "run_control": {
     "frozen": true
    }
   },
   "source": [
    "On modélise, dans un premier temps, les interactions entre personnes dans un tableau `amis` de chaînes de caractères contenant les prénoms des membres du réseau et tel que `amis[2*i]` a des interactions avec `amis[2*i+1]`.\n",
    "\n",
    "On suppose que chaque interaction n'est décrite qu'une seule fois dans le tableau, et qu'une personne n'a pas d'interaction avec elle-même.\n",
    "\n",
    "**Exemple** : "
   ]
  },
  {
   "cell_type": "code",
   "execution_count": null,
   "metadata": {
    "deletable": false,
    "editable": false
   },
   "outputs": [],
   "source": [
    "amis = [\"Alice\", \"Bob\", \"Alice\", \"Charlie\", \"Bob\", \"Denis\"]"
   ]
  },
  {
   "cell_type": "markdown",
   "metadata": {
    "deletable": false,
    "editable": false,
    "run_control": {
     "frozen": true
    }
   },
   "source": [
    "Ici, \n",
    "- Alice a des interactions Bob et Charlie, \n",
    "- Bob a des intractions avec Alice et Denis,\n",
    "- Charlie a des interactions avec Alice et\n",
    "- Denis a des interactions avec Bob."
   ]
  },
  {
   "cell_type": "markdown",
   "metadata": {
    "deletable": false,
    "editable": false,
    "run_control": {
     "frozen": true
    }
   },
   "source": [
    "#### Question préliminaire : Modélisation d'un réseau par un tableau\n",
    "\n",
    "Muriel, Yasmine et Joël sont amis. Yasmine est amie avec Thomas. \n",
    "Joël, Nassim, Andrea et Ali sont amis. Thomas est ami de Daria et Carole. Thierry, Axel et Léo sont amis. Léo est ami de Valentin qui est ami d'Andrea.\n",
    "\n",
    "- Construire un tableau `p_amis` qui modélise ce réseau d'amitié en selon le principe qui vient d'être décrit."
   ]
  },
  {
   "cell_type": "code",
   "execution_count": 13,
   "metadata": {},
   "outputs": [
    {
     "name": "stdout",
     "output_type": "stream",
     "text": [
      "Muriel est amis avec  Yasmine\n",
      "Yasmine est amis avec  Thomas\n",
      "Joël est amis avec  Muriel\n",
      "Joël est amis avec  Yasmine\n",
      "Joël est amis avec  Nassim\n",
      "Joël est amis avec  Andrea\n",
      "Joël est amis avec  Ali\n",
      "Andrea est amis avec  Nassim\n",
      "Ali est amis avec  Andrea\n",
      "Nassim est amis avec  Ali\n",
      "Daria est amis avec  Thomas\n",
      "Carole est amis avec  Thomas\n",
      "Thierry est amis avec  Axel\n",
      "Thierry est amis avec  Léo\n",
      "Axel est amis avec  Léo\n",
      "Léo est amis avec  Valentine\n",
      "Valentine est amis avec  Andrea\n"
     ]
    }
   ],
   "source": [
    "amis = [ 'Muriel', 'Yasmine',\n",
    "        \n",
    "         'Yasmine','Thomas',\n",
    "\n",
    "         'Joël','Muriel','Joël','Yasmine','Joël','Nassim','Joël','Andrea','Joël','Ali',\n",
    "\n",
    "         'Andrea', 'Nassim',\n",
    "        \n",
    "         'Ali', 'Andrea',\n",
    "\n",
    "         'Nassim', 'Ali',\n",
    "\n",
    "         'Daria', 'Thomas',\n",
    "        \n",
    "         'Carole','Thomas',\n",
    "\n",
    "         'Thierry', 'Axel', 'Thierry','Léo',\n",
    "\n",
    "         'Axel', 'Léo',\n",
    "\n",
    "         'Léo', 'Valentine',\n",
    "\n",
    "         'Valentine','Andrea']\n",
    "#Initialisation\n",
    "i = 0\n",
    "while i < len(amis)/2: #boucle qu'on divise par 2 car on multiplie par 2 en dessous\n",
    "    print(amis[2*i], 'est amis avec ', amis[2*i+1]) #Permet d'afficher qui est amis avec qui\n",
    "    i += 1"
   ]
  },
  {
   "cell_type": "markdown",
   "metadata": {
    "deletable": false,
    "editable": false,
    "run_control": {
     "frozen": true
    }
   },
   "source": [
    "#### Question 1 : Nombre d'amis d'une personne\n",
    "\n",
    "- Étant donné un tableau `amis`, écrire une fonction `nb_amis(amis, prenom)` qui retourne le nombre d'amis de `prenom` à partir des données du tableau `amis`. "
   ]
  },
  {
   "cell_type": "code",
   "execution_count": 8,
   "metadata": {},
   "outputs": [],
   "source": [
    "def nb_amis(amis, prenom):\n",
    "    \"\"\"\n",
    "    Cette fonction va permettre de compté le nombre d'amis de 'prenom'.\n",
    "    Pour compter le nombre d'amis d'une personne on a fait en sorte de dire que si le amis[i] est égal a 'prenom'\n",
    "    alors son nombre d'amis augmente de 1 car dans la liste on a fait en sorte de mettre l'amis d'une personne\n",
    "    après son prénom.\n",
    "    \"\"\"\n",
    "    # Initialisation\n",
    "    i = 0\n",
    "    nbamis = 0 #Nombre d'amis par défaut\n",
    "    #Une boucle qui va parcourir le tableau amis\n",
    "    while i < len(amis):\n",
    "        #Vérifier si amis[i] et égal au prenom saisie lors de l'appel de la fonction\n",
    "        #Si oui, on ajoute 1 a nbamis\n",
    "        if amis[i] == prenom:\n",
    "            nbamis +=1\n",
    "        i+=1\n",
    "        #retourne le nombre d'amis\n",
    "    return nbamis\n",
    "\n",
    "def test_nb_amis():\n",
    "    \"\"\"\n",
    "    Test pour la fonction nb_amis\n",
    "    \"\"\"\n",
    "    assert nb_amis(amis, 'Joël') == 5\n",
    "    assert nb_amis(amis, 'Muriel') == 2\n",
    "    assert nb_amis(amis, 'Axel') == 2\n",
    "    assert nb_amis(amis, 'Yasmine') == 3\n",
    "    assert nb_amis(amis, 'Andrea') == 4\n",
    "    assert nb_amis(amis, 'Léo') == 3\n",
    "    assert nb_amis(amis, 'Carole') == 1\n",
    "    assert nb_amis(amis, 'Daria') == 1\n",
    "    print('test nb_amis : OK')"
   ]
  },
  {
   "cell_type": "markdown",
   "metadata": {
    "deletable": false,
    "editable": false,
    "run_control": {
     "frozen": true
    }
   },
   "source": [
    "#### Question 2 : Nombre de membres d'un réseau social \n",
    "\n",
    "- Ecrire une fonction `taille_reseau(amis)` qui à partir d'un tableau `amis`retourne le nombre de personnes distinctes participant à ce réseau social."
   ]
  },
  {
   "cell_type": "code",
   "execution_count": 9,
   "metadata": {},
   "outputs": [],
   "source": [
    "def taille_reaseau(amis):\n",
    "    \"\"\"\n",
    "    Nous avons crée un tableau vide pour pouvoir mettre les prénoms différent en parcourant le tableau amis\n",
    "    et ajouter le prenom qui ne sont pas dans le nouveau tableau qu'on a crée. Et au final on retourne la \n",
    "    longueur du tableau pour dire le nombre de personne différent.\n",
    "    \"\"\"\n",
    "    #Initialisation\n",
    "    i = 0\n",
    "    nb_personne = [] #tableau vide pour stocker les personnes différente du groupe\n",
    "    #On va parcourir la liste amis\n",
    "    while i < len(amis):\n",
    "        #On vérifie si la personne est dans le tableau nb_personne\n",
    "        if amis[i] not in nb_personne:\n",
    "            #Si la condition est vérifier on ajoute au tableau amis[i]\n",
    "            nb_personne.append(amis[i])\n",
    "        i += 1\n",
    "        #retourne la longueur du nouveau tableau\n",
    "    return len(nb_personne)\n",
    "\n",
    "\n",
    "\n",
    "def test_taille_reseau():\n",
    "    \"\"\"\n",
    "    Les tests unitaires de la fonction taille_reseau\n",
    "    \"\"\"\n",
    "    assert taille_reseau(amis) == 13\n",
    "    print('test : OK')"
   ]
  },
  {
   "cell_type": "markdown",
   "metadata": {
    "deletable": false,
    "editable": false,
    "run_control": {
     "frozen": true
    }
   },
   "source": [
    "#### Question 3 :  Lecture des données d'un réseau à partir d'un fichier\n",
    "On suppose que les données sur un réseau social sont stockées dans un fichier CSV de la manière suivante :\n",
    "```\n",
    "prenom1;prenom2\n",
    "prenom3;prenom4\n",
    "prenom5;prenom6\n",
    "...\n",
    "```\n",
    "Autrement dit, chaque ligne du fichier contient une paire de prénoms séparés par un `';'` correspondant à deux personnes ayant des interactions. \n",
    "\n",
    "**NB** : Quatre fichiers CSV de ce type sont fournis dans le répertoire `files/`, il s'agit des fichiers`Communaute1.csv`, `Communaute2.csv`,`Communaute3.csv` et `Communaute4.csv`. \n",
    "Il est recommandé d'en fabriquer d'autres. \n",
    "\n",
    "- Ecrire une fonction `lecture_reseau(path)` prenant en paramètre un chemin vers un tel fichier CSV et retournant un tableau modélisant les interactions entre les personnes du fichier."
   ]
  },
  {
   "cell_type": "code",
   "execution_count": 11,
   "metadata": {},
   "outputs": [
    {
     "data": {
      "text/plain": [
       "['Giedrius',\n",
       " 'Mady',\n",
       " 'Kirsa',\n",
       " 'Vittore',\n",
       " 'Barbra',\n",
       " 'Faizel',\n",
       " 'Vittorio',\n",
       " 'Vittore',\n",
       " 'Louis',\n",
       " 'Placide',\n",
       " 'Vittorio',\n",
       " 'Barbra',\n",
       " 'Cloe',\n",
       " 'Bjﾃｶrn',\n",
       " 'Vittore',\n",
       " 'Barbra',\n",
       " 'Mady',\n",
       " 'Rufino',\n",
       " 'Cloe',\n",
       " 'Vittorio',\n",
       " 'Vittorio',\n",
       " 'Placide',\n",
       " 'Olavi',\n",
       " 'Rufino',\n",
       " 'Vittore',\n",
       " 'Cloe',\n",
       " 'Teodor',\n",
       " 'Cloe',\n",
       " 'Louis',\n",
       " 'Cloe',\n",
       " 'Idelle',\n",
       " 'Mady',\n",
       " 'Illtyd',\n",
       " 'Giedrius',\n",
       " 'Teodor',\n",
       " 'Olavi',\n",
       " 'Vittore',\n",
       " 'Mady',\n",
       " 'Rufino',\n",
       " 'Giedrius',\n",
       " 'Placide',\n",
       " 'Louis',\n",
       " 'Louis',\n",
       " 'Vittorio',\n",
       " 'Giedrius',\n",
       " 'Glenys',\n",
       " 'Bjﾃｶrn',\n",
       " 'Olavi',\n",
       " 'Faizel',\n",
       " 'Placide',\n",
       " 'Rufino',\n",
       " 'Illtyd',\n",
       " 'Placide',\n",
       " 'Louis',\n",
       " 'Kirsa',\n",
       " 'Vittorio',\n",
       " 'Mady',\n",
       " 'Placide',\n",
       " 'Illtyd',\n",
       " 'Olavi',\n",
       " 'Vittorio',\n",
       " 'Placide',\n",
       " 'Cloe',\n",
       " 'Mady',\n",
       " 'Rufino',\n",
       " 'Vittorio',\n",
       " 'Placide',\n",
       " 'Rufino',\n",
       " 'Rufino',\n",
       " 'Vittorio',\n",
       " 'Giedrius',\n",
       " 'Illtyd',\n",
       " 'Rufino',\n",
       " 'Teodor',\n",
       " 'Olavi',\n",
       " 'Rufino',\n",
       " 'Placide',\n",
       " 'Jakob',\n",
       " 'Cloe',\n",
       " 'Bjﾃｶrn',\n",
       " 'Barbra',\n",
       " 'Kirsa',\n",
       " 'Idelle',\n",
       " 'Cloe',\n",
       " 'Rufino',\n",
       " 'Illtyd',\n",
       " 'Rufino',\n",
       " 'Faizel',\n",
       " 'Rufino',\n",
       " 'Louis',\n",
       " 'Bjﾃｶrn',\n",
       " 'Cloe',\n",
       " 'Vittorio',\n",
       " 'Olavi',\n",
       " 'Vittorio',\n",
       " 'Mady',\n",
       " 'Glenys',\n",
       " 'Cloe',\n",
       " 'Bjﾃｶrn',\n",
       " 'Idelle',\n",
       " 'Mady',\n",
       " 'Bjﾃｶrn',\n",
       " 'Barbra',\n",
       " 'Vittorio',\n",
       " 'Louis',\n",
       " 'Bjﾃｶrn',\n",
       " 'Mady',\n",
       " 'Vittorio',\n",
       " 'Illtyd',\n",
       " 'Olavi',\n",
       " 'Olavi',\n",
       " 'Barbra',\n",
       " 'Bjﾃｶrn',\n",
       " 'Giedrius',\n",
       " 'Mady',\n",
       " 'Placide',\n",
       " 'Faizel',\n",
       " 'Barbra',\n",
       " 'Marwa',\n",
       " 'Idelle',\n",
       " 'Placide',\n",
       " 'Olavi',\n",
       " 'Olavi',\n",
       " 'Placide',\n",
       " 'Cain',\n",
       " 'Vittorio',\n",
       " 'Louis',\n",
       " 'Placide',\n",
       " 'Jakob',\n",
       " 'Kirsa',\n",
       " 'Barbra',\n",
       " 'Marwa',\n",
       " 'Vittorio',\n",
       " 'Louis',\n",
       " 'Idelle',\n",
       " 'Illtyd',\n",
       " 'Louis',\n",
       " 'Giedrius',\n",
       " 'Olavi',\n",
       " 'Barbra',\n",
       " 'Mady',\n",
       " 'Barbra',\n",
       " 'Barbra',\n",
       " 'Rufino',\n",
       " 'Cloe',\n",
       " 'Barbra',\n",
       " 'Louis',\n",
       " 'Bjﾃｶrn',\n",
       " 'Cloe',\n",
       " 'Bjﾃｶrn',\n",
       " 'Mady',\n",
       " 'Barbra',\n",
       " 'Rufino',\n",
       " 'Bjﾃｶrn',\n",
       " 'Kirsa',\n",
       " 'Vittore',\n",
       " 'Bjﾃｶrn',\n",
       " 'Faizel',\n",
       " 'Jakob',\n",
       " 'Kirsa',\n",
       " 'Cloe',\n",
       " 'Vittore',\n",
       " 'Vittore',\n",
       " 'Bjﾃｶrn',\n",
       " 'Bjﾃｶrn',\n",
       " 'Teodor',\n",
       " 'Barbra',\n",
       " 'Rufino',\n",
       " 'Louis',\n",
       " 'Rufino',\n",
       " 'Vittorio',\n",
       " 'Mady',\n",
       " 'Olavi',\n",
       " 'Teodor',\n",
       " 'Teodor',\n",
       " 'Mady',\n",
       " 'Faizel',\n",
       " 'Olavi',\n",
       " 'Bjﾃｶrn',\n",
       " 'Cloe',\n",
       " 'Cloe',\n",
       " 'Idelle',\n",
       " 'Barbra',\n",
       " 'Louis',\n",
       " 'Barbra',\n",
       " 'Vittore',\n",
       " 'Giedrius',\n",
       " 'Vittorio',\n",
       " 'Placide',\n",
       " 'Cain',\n",
       " 'Vittore',\n",
       " 'Louis',\n",
       " 'Mady',\n",
       " 'Jakob',\n",
       " 'Barbra',\n",
       " 'Vittore',\n",
       " 'Bjﾃｶrn',\n",
       " 'Mady',\n",
       " 'Placide',\n",
       " 'Rufino',\n",
       " 'Placide',\n",
       " 'Cloe',\n",
       " 'Vittorio',\n",
       " 'Barbra',\n",
       " 'Illtyd',\n",
       " 'Rufino',\n",
       " 'Vittore',\n",
       " 'Louis',\n",
       " 'Olavi',\n",
       " 'Louis']"
      ]
     },
     "execution_count": 11,
     "metadata": {},
     "output_type": "execute_result"
    }
   ],
   "source": [
    "def lecture_reseau(path):\n",
    "    \"\"\"\n",
    "    Cette fonction permet de lire à partir d'un fichier un reseau de groupe d'amis.\n",
    "    On créer deux tableau un qui va permettre de stocker 2 prénom et l'autre va stocker tout les prénoms d'un fichier\n",
    "    sans les séparateurs ainsi que des éléments parasytes.\n",
    "    \n",
    "    \"\"\"\n",
    "    #Ouverture du fichier en mode lecture\n",
    "    f = open(path, \"r\")\n",
    "    i = 0\n",
    "    tab = [] #tableau vide pour stocker les couples d'amis\n",
    "    tab1 = [] #Ce deuxième tableau va permettre de mettre séparement les couples d'amis\n",
    "    li = f.readline() #lecture de la premiere ligne\n",
    "    li = li.strip() #enlever les éléments parasyte sur la premiere ligne\n",
    "    # boucle qui continue tant que li n'est pas égal a vide\n",
    "    while \"\" != li:\n",
    "        li = li.strip()\n",
    "        tab.append(li.split(';')) #ajouter la personne et son amis au tableau en enlevant les séparateurs\n",
    "        while i < 2:\n",
    "            tab1.append(tab[0][i])#ajoute a tab1 chaque élément du tab\n",
    "            i+=1\n",
    "        tab = [] #réinitialisation du tableau avec le prenom d'une personne ainsi que de son amis\n",
    "        i=0\n",
    "        li = f.readline() #lecture de la prochaine ligne\n",
    "    f.close() #ferme le fichier ouvert\n",
    "    return tab1 #retourne le tableau avec touts les liens d'amitier\n",
    "\n",
    "lecture_reseau('files/Communaute1.csv')"
   ]
  },
  {
   "cell_type": "markdown",
   "metadata": {
    "deletable": false,
    "editable": false,
    "run_control": {
     "frozen": true
    }
   },
   "source": [
    "#### Question 4 : Modélisation d'un réseau par un dictionnaire\n",
    "On préfère pour la suite, utiliser une modélisation du réseau social par un dictionnaire dont où les clés sont les prénoms des personnes du réseau et la valeur associé à une clé est le tableau des amis de la personne indiquée par la clé.\n",
    "\n",
    "- A partir d'un tableau `amis` modélisant les interactions entre personnes d'un réseau, écrire une fonction `dico_reseau(amis)` qui retourne un dictionnaire dont les clés sont les prénoms des membres du réseau et les valeurs le tableau de leurs amis."
   ]
  },
  {
   "cell_type": "code",
   "execution_count": 16,
   "metadata": {},
   "outputs": [
    {
     "name": "stdout",
     "output_type": "stream",
     "text": [
      "test : ok\n"
     ]
    }
   ],
   "source": [
    "def nb_distinct(amis):\n",
    "    \"\"\"\n",
    "    Cette fonction va juste servir de support pour la fonction dico_reseau.\n",
    "    Elle va définir les clés pour la fonction dico_reseau.\n",
    "    Les clés seront les prenom de chaque personne distinct\n",
    "    \"\"\"\n",
    "    i = 0\n",
    "    nb_personne = [] #liste vide\n",
    "    while i < len(amis):\n",
    "        if amis[i] not in nb_personne: #vérifie si la personne est dans la liste\n",
    "            nb_personne.append(amis[i]) #si la personne n'est pas dans la liste, alors on l'ajoute\n",
    "        i += 1 #sinon on ajoute 1 à i\n",
    "    return nb_personne #retourne le tableau\n",
    "\n",
    "def dico_reseau(amis):\n",
    "    \"\"\"\n",
    "    Cette fonction permet d'afficher sous la forme de dictionnaire les liens d'amitier de chaque personne d'un\n",
    "    réseau.\n",
    "    Les clés du réseau est définit par la fonction nb_distinct. Et la fonction va mettre dans une liste\n",
    "    les prenoms des differentes personnes, ensuite on va pouvoir l'utiliser pour en faire nos clés.\n",
    "\n",
    "    \"\"\"\n",
    "    dico_amis = {} #On définit le dictionnaire vide\n",
    "    i = 0  #initialisation du compteur pour la boucle externe\n",
    "    clef = nb_distinct(amis) # Les clés, donc les différente personnes du reseau\n",
    "    while i < len(clef): #Boucle externe\n",
    "\n",
    "        # initialisation d'une liste vide qui va contenir les amis d'une personne\n",
    "        # et qui va se réinitialiser pour la seconde personne.\n",
    "        liste_amis = []\n",
    "        n = 0 #Initialisation d'un deuxième compteur\n",
    "        while n < len(amis)/2: #Boucle interne qui va parcourir la liste amis\n",
    "            if clef[i] == amis[2*n]: #Va vérifier si la clé actuelle est dans amis\n",
    "                #si la clé est apparue dans la liste amis alors le suivant de la liste est son amis\n",
    "                #donc on va l'ajouter a la liste créer auparavant\n",
    "                liste_amis.append(amis[2*n+1])\n",
    "            n+=1 #+1 pour passer a la personne suivante dans la liste amis\n",
    "            #Juste avant de passer a la clé suivante on rattache la liste a clé en tant que valeur\n",
    "        dico_amis[clef[i]] = liste_amis\n",
    "        i+=1\n",
    "        #retourne le dictionnaire avec chaque personne distinct du groupe en clé et en valeur sa liste d'amis\n",
    "    return dico_amis\n",
    "\n",
    "def test_dico_reseau():\n",
    "    \"\"\"\n",
    "    Test unitaire pour la fonction dico_reseau\n",
    "    \"\"\"\n",
    "    assert dico_reseau(amis) == {\n",
    "        'Muriel': ['Yasmine'],\n",
    "        'Yasmine': ['Thomas'],\n",
    "        'Thomas': [],\n",
    "        'Joël': ['Muriel', 'Yasmine', 'Nassim', 'Andrea', 'Ali'],\n",
    "        'Nassim': ['Ali'],\n",
    "        'Andrea': ['Nassim'],\n",
    "        'Ali': ['Andrea'],\n",
    "        'Daria': ['Thomas'],\n",
    "        'Carole': ['Thomas'],\n",
    "        'Thierry': ['Axel', 'Léo'],\n",
    "        'Axel': ['Léo'],\n",
    "        'Léo': ['Valentine'],\n",
    "        'Valentine': ['Andrea']\n",
    "    }\n",
    "    print('test : ok')\n",
    "    \n",
    "\n",
    "test_dico_reseau()"
   ]
  },
  {
   "cell_type": "markdown",
   "metadata": {
    "deletable": false,
    "editable": false,
    "run_control": {
     "frozen": true
    }
   },
   "source": [
    "#### Question 5 : Nombre d'amis des personnes les plus populaires\n",
    "\n",
    "- A partir d'un dictionnaire `dico_reseau` modélisant les interactions dans un réseau d'amis, écrire une fonction `nb_amis_plus_pop (dico_reseau)` qui retourne le nombre d'amis des personnes les plus populaires du réseau."
   ]
  },
  {
   "cell_type": "code",
   "execution_count": 17,
   "metadata": {},
   "outputs": [],
   "source": [
    "def nb_amis_plus_pop(dico_reseau):\n",
    "    \"\"\"\n",
    "    Cette fonction permet de renvoier le maximum d'amis qu'une personne a dans un reseau d'amis.\n",
    "    En paramètre on met le dictionnaire contenant les listes d'amis de chaque personne\n",
    "    et cette fonction va comparer la longueur de la liste de tout les personne en clef \n",
    "    et renvoie celui qui a le plus d'amis.\n",
    "    Exemple:  nb_amis_plus_pop({'Carole':['Thomas']}) ce qui fait que Carole a qu'un amis.\n",
    "    \"\"\"\n",
    "    i = 0 #Initialise le compteur a 0\n",
    "    nb_amis = 0 # le nombre d'amis max d'une personne initaliser a 0\n",
    "    clef = list(dico_reseau) # on affecte a clef les clés du dictionnaire\n",
    "    # On va parcourir le tableau clefs\n",
    "    while i < len(clef):\n",
    "        #si la longueur de la clé est supérieur nb_amis \n",
    "        #  --> la longueur de la clé va être affecter a nb_amis\n",
    "        if len(dico_reseau[clef[i]]) > nb_amis:\n",
    "            nb_amis = len(dico_reseau[clef[i]])\n",
    "        i+=1\n",
    "    return nb_amis #retourne le maximum d'amis d'une personne\n",
    "\n",
    "\n",
    "def test_nb_amis_plus_pop():\n",
    "    \"\"\"\n",
    "    Test unitaire de la fonction nb_amis_plus_pop.\n",
    "    \"\"\"\n",
    "    assert nb_amis_plus_pop(dico_reseau(amis)) == 5\n",
    "    assert nb_amis_plus_pop(dico_reseau(dico)) == 10\n",
    "    print('test : ok')\n"
   ]
  },
  {
   "cell_type": "markdown",
   "metadata": {
    "deletable": false,
    "editable": false,
    "run_control": {
     "frozen": true
    }
   },
   "source": [
    "#### Question 6 : Personnes les plus populaires\n",
    "\n",
    "- A partir d'un dictionnaire `dico_reseau` modélisant les interactions dans un réseau d'amis, écrire une fonction `les_plus_pop (dico_reseau)` qui retourne un tableau contenant les prénoms de toutes les personnes les plus populaires du réseau."
   ]
  },
  {
   "cell_type": "code",
   "execution_count": 16,
   "metadata": {},
   "outputs": [
    {
     "name": "stdout",
     "output_type": "stream",
     "text": [
      "test : ok\n"
     ]
    }
   ],
   "source": [
    "def les_plus_pop(dico_reseau):\n",
    "    \"\"\"\n",
    "    Cette fonction permet de prendre un dictionnaire et de vérifier qui a le nombre maximum d'amis du groupe,\n",
    "    celui qui a attein ce nombre max d'amis va être ajouter a un tableau vide qui va être retourner a la fin\n",
    "    de la fonction.\n",
    "    En paramètre on a toujours le dictionnaire renvoyer pas la fonction dico_reseau.\n",
    "    Exemple:  -Selon la fonction nb_amis_plus_pop() le nombre maximal d'amis dans ce reseau est de 5\n",
    "    alors ce qui ont 5 amis sont les plus populaires,\n",
    "    donc :\n",
    "    les_plus_pop(dico_reseau(amis)) == ['Joël']\n",
    "    \"\"\"\n",
    "    #Initalisation\n",
    "    i = 0\n",
    "    les_personne_les_plus_pop = []\n",
    "    #Affect a clef les clés du dictionnaire dico_reseau\n",
    "    clef = list(dico_reseau)\n",
    "    # Une boucle qui va parcourir tout les clés du dictionnaire\n",
    "    while i < len(clef):\n",
    "        #On va utiliser la fonction précedente pour vérifier qui est la personne la plus pop du reseau\n",
    "        if nb_amis_plus_pop(dico_reseau) == len(dico_reseau[clef[i]]):\n",
    "            # si la personne a 5 amis alors on l'ajoute au tableau qu'on a initaliser\n",
    "            les_personne_les_plus_pop.append(clef[i])\n",
    "        i+=1\n",
    "        #on retourne le tableau avec les noms des personnes les plus populaires\n",
    "    return les_personne_les_plus_pop\n",
    "\n",
    "def test_les_plus_pop():\n",
    "    \"\"\"\n",
    "    Test unitaire pour la fonction les_plus_pop().\n",
    "    \"\"\"\n",
    "    assert les_plus_pop(dico_reseau(amis)) == ['Joël']\n",
    "    assert les_plus_pop(dico_reseau(dico)) == ['Barbra','Bjﾃｶrn']\n",
    "    print('test : ok')\n",
    "    \n"
   ]
  },
  {
   "cell_type": "code",
   "execution_count": null,
   "metadata": {},
   "outputs": [],
   "source": []
  }
 ],
 "metadata": {
  "kernelspec": {
   "display_name": "Python 3 (ipykernel)",
   "language": "python",
   "name": "python3"
  },
  "language_info": {
   "codemirror_mode": {
    "name": "ipython",
    "version": 3
   },
   "file_extension": ".py",
   "mimetype": "text/x-python",
   "name": "python",
   "nbconvert_exporter": "python",
   "pygments_lexer": "ipython3",
   "version": "3.9.12"
  },
  "latex_envs": {
   "LaTeX_envs_menu_present": true,
   "autoclose": false,
   "autocomplete": true,
   "bibliofile": "biblio.bib",
   "cite_by": "apalike",
   "current_citInitial": 1,
   "eqLabelWithNumbers": true,
   "eqNumInitial": 1,
   "hotkeys": {
    "equation": "Ctrl-E",
    "itemize": "Ctrl-I"
   },
   "labels_anchors": false,
   "latex_user_defs": false,
   "report_style_numbering": false,
   "user_envs_cfg": false
  }
 },
 "nbformat": 4,
 "nbformat_minor": 2
}
